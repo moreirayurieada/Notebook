{
 "cells": [
  {
   "cell_type": "markdown",
   "id": "f155b144",
   "metadata": {},
   "source": [
    "## CARREGANDO O DATASET"
   ]
  },
  {
   "cell_type": "code",
   "execution_count": 65,
   "id": "0a9b289f",
   "metadata": {},
   "outputs": [
    {
     "name": "stdout",
     "output_type": "stream",
     "text": [
      "<class 'pandas.core.frame.DataFrame'>\n",
      "RangeIndex: 569 entries, 0 to 568\n",
      "Data columns (total 31 columns):\n",
      " #   Column                   Non-Null Count  Dtype  \n",
      "---  ------                   --------------  -----  \n",
      " 0   mean radius              569 non-null    float64\n",
      " 1   mean texture             569 non-null    float64\n",
      " 2   mean perimeter           569 non-null    float64\n",
      " 3   mean area                569 non-null    float64\n",
      " 4   mean smoothness          569 non-null    float64\n",
      " 5   mean compactness         569 non-null    float64\n",
      " 6   mean concavity           569 non-null    float64\n",
      " 7   mean concave points      569 non-null    float64\n",
      " 8   mean symmetry            569 non-null    float64\n",
      " 9   mean fractal dimension   569 non-null    float64\n",
      " 10  radius error             569 non-null    float64\n",
      " 11  texture error            569 non-null    float64\n",
      " 12  perimeter error          569 non-null    float64\n",
      " 13  area error               569 non-null    float64\n",
      " 14  smoothness error         569 non-null    float64\n",
      " 15  compactness error        569 non-null    float64\n",
      " 16  concavity error          569 non-null    float64\n",
      " 17  concave points error     569 non-null    float64\n",
      " 18  symmetry error           569 non-null    float64\n",
      " 19  fractal dimension error  569 non-null    float64\n",
      " 20  worst radius             569 non-null    float64\n",
      " 21  worst texture            569 non-null    float64\n",
      " 22  worst perimeter          569 non-null    float64\n",
      " 23  worst area               569 non-null    float64\n",
      " 24  worst smoothness         569 non-null    float64\n",
      " 25  worst compactness        569 non-null    float64\n",
      " 26  worst concavity          569 non-null    float64\n",
      " 27  worst concave points     569 non-null    float64\n",
      " 28  worst symmetry           569 non-null    float64\n",
      " 29  worst fractal dimension  569 non-null    float64\n",
      " 30  target                   569 non-null    int64  \n",
      "dtypes: float64(30), int64(1)\n",
      "memory usage: 137.9 KB\n",
      "None\n",
      "   mean radius  mean texture  ...  worst fractal dimension  target\n",
      "0        17.99         10.38  ...                  0.11890       0\n",
      "1        20.57         17.77  ...                  0.08902       0\n",
      "2        19.69         21.25  ...                  0.08758       0\n",
      "3        11.42         20.38  ...                  0.17300       0\n",
      "4        20.29         14.34  ...                  0.07678       0\n",
      "\n",
      "[5 rows x 31 columns]\n"
     ]
    }
   ],
   "source": [
    "from sklearn.datasets import load_breast_cancer\n",
    "import pandas as pd\n",
    "from sklearn.model_selection import train_test_split\n",
    "\n",
    "\n",
    "data =  load_breast_cancer(as_frame=True)\n",
    "df = data.frame\n",
    "\n",
    "print(df.info())\n",
    "print(df.head())          \n",
    "\n",
    "\n",
    "\n"
   ]
  },
  {
   "cell_type": "markdown",
   "id": "317901a2",
   "metadata": {},
   "source": [
    "##  DEFININDO  X e Y  (Atributos e variavel alvo cada uma)"
   ]
  },
  {
   "cell_type": "code",
   "execution_count": 66,
   "id": "9099d715",
   "metadata": {},
   "outputs": [
    {
     "name": "stdout",
     "output_type": "stream",
     "text": [
      "     mean radius  mean texture  ...  worst symmetry  worst fractal dimension\n",
      "0          17.99         10.38  ...          0.4601                  0.11890\n",
      "1          20.57         17.77  ...          0.2750                  0.08902\n",
      "2          19.69         21.25  ...          0.3613                  0.08758\n",
      "3          11.42         20.38  ...          0.6638                  0.17300\n",
      "4          20.29         14.34  ...          0.2364                  0.07678\n",
      "..           ...           ...  ...             ...                      ...\n",
      "564        21.56         22.39  ...          0.2060                  0.07115\n",
      "565        20.13         28.25  ...          0.2572                  0.06637\n",
      "566        16.60         28.08  ...          0.2218                  0.07820\n",
      "567        20.60         29.33  ...          0.4087                  0.12400\n",
      "568         7.76         24.54  ...          0.2871                  0.07039\n",
      "\n",
      "[569 rows x 30 columns]\n"
     ]
    }
   ],
   "source": [
    "X = df.drop(columns=[data.target.name])\n",
    "Y = df[data.target.name]\n",
    "\n",
    "print(X)\n"
   ]
  },
  {
   "cell_type": "markdown",
   "id": "00b2b800",
   "metadata": {},
   "source": [
    "## SEPARAR TREINOS E TESTES"
   ]
  },
  {
   "cell_type": "code",
   "execution_count": 67,
   "id": "359366c8",
   "metadata": {},
   "outputs": [
    {
     "name": "stdout",
     "output_type": "stream",
     "text": [
      "(455, 30)\n",
      "(114, 30)\n"
     ]
    }
   ],
   "source": [
    "X_train, X_test, Y_train, Y_test = train_test_split (X, Y, test_size= 0.2, random_state=42, stratify=Y)\n",
    "\n",
    "print(X_train.shape)\n",
    "print(X_test.shape)"
   ]
  },
  {
   "cell_type": "markdown",
   "id": "ee88a5d3",
   "metadata": {},
   "source": [
    "## CRIAÇÃO DE MODELO PARA CLASSIFICAÇÃO"
   ]
  },
  {
   "cell_type": "code",
   "execution_count": 68,
   "id": "2ba0bed1",
   "metadata": {},
   "outputs": [],
   "source": [
    "from sklearn.tree import DecisionTreeClassifier\n",
    "from sklearn.neighbors import KNeighborsClassifier \n",
    "from sklearn.linear_model import LogisticRegression\n",
    "\n",
    "\n",
    "modelos = {\n",
    "    \"Decision Tree\": DecisionTreeClassifier(),\n",
    "    \"KNN\": KNeighborsClassifier(),\n",
    "    \"Logistic Regression\": LogisticRegression(max_iter=10000)\n",
    "}"
   ]
  },
  {
   "cell_type": "markdown",
   "id": "4369f7a3",
   "metadata": {},
   "source": [
    "## TREINANDO MODELOS"
   ]
  },
  {
   "cell_type": "code",
   "execution_count": 69,
   "id": "ca42a4f7",
   "metadata": {},
   "outputs": [
    {
     "name": "stdout",
     "output_type": "stream",
     "text": [
      "Decision Tree: - Acurácia: 0.91228, Precisão: 0.91367\n",
      "Precisao:0.91367\n",
      "Matriz de Confusão:\n",
      "[[38  4]\n",
      " [ 6 66]]\n",
      "\n",
      "\n",
      "\n",
      "               precision    recall  f1-score   support\n",
      "\n",
      "           0       0.86      0.90      0.88        42\n",
      "           1       0.94      0.92      0.93        72\n",
      "\n",
      "    accuracy                           0.91       114\n",
      "   macro avg       0.90      0.91      0.91       114\n",
      "weighted avg       0.91      0.91      0.91       114\n",
      "\n",
      "KNN: - Acurácia: 0.91228, Precisão: 0.91367\n",
      "Precisao:0.91367\n",
      "Matriz de Confusão:\n",
      "[[38  4]\n",
      " [ 6 66]]\n",
      "\n",
      "\n",
      "\n",
      "               precision    recall  f1-score   support\n",
      "\n",
      "           0       0.86      0.90      0.88        42\n",
      "           1       0.94      0.92      0.93        72\n",
      "\n",
      "    accuracy                           0.91       114\n",
      "   macro avg       0.90      0.91      0.91       114\n",
      "weighted avg       0.91      0.91      0.91       114\n",
      "\n",
      "Logistic Regression: - Acurácia: 0.96491, Precisão: 0.96518\n",
      "Precisao:0.96518\n",
      "Matriz de Confusão:\n",
      "[[39  3]\n",
      " [ 1 71]]\n",
      "\n",
      "\n",
      "\n",
      "               precision    recall  f1-score   support\n",
      "\n",
      "           0       0.97      0.93      0.95        42\n",
      "           1       0.96      0.99      0.97        72\n",
      "\n",
      "    accuracy                           0.96       114\n",
      "   macro avg       0.97      0.96      0.96       114\n",
      "weighted avg       0.97      0.96      0.96       114\n",
      "\n"
     ]
    }
   ],
   "source": [
    "from sklearn.metrics import accuracy_score, precision_score, confusion_matrix, classification_report\n",
    "\n",
    "resultados = {}\n",
    "\n",
    "for nome, modelo in modelos.items():\n",
    "    modelo.fit(X_train, Y_train)\n",
    "    Y_predict = modelo.predict(X_test)\n",
    "\n",
    "    acuraria = accuracy_score(Y_test, Y_predict)\n",
    "    precisao = precision_score(Y_test, Y_predict, average='weighted')\n",
    "    matriz_confusao = confusion_matrix(Y_test, Y_predict)\n",
    "\n",
    "    resultados[nome] = {\n",
    "        \"Acurácia\": acuraria,\n",
    "        \"Precisão\": precisao,\n",
    "        \"Matriz de Confusão\": matriz_confusao\n",
    "    }\n",
    "\n",
    "    print (f'{nome}: - Acurácia: {acuraria:.5f}, Precisão: {precisao:.5f}')\n",
    "    print(f'Precisao:{precisao:.5f}')\n",
    "    print('Matriz de Confusão:')\n",
    "    print(matriz_confusao)  \n",
    "    print('\\n\\n\\n', classification_report(Y_test, Y_predict))"
   ]
  },
  {
   "cell_type": "markdown",
   "id": "2fc71c34",
   "metadata": {},
   "source": [
    "## GRAFICOS\n"
   ]
  },
  {
   "cell_type": "code",
   "execution_count": 70,
   "id": "2fae65af",
   "metadata": {},
   "outputs": [
    {
     "name": "stderr",
     "output_type": "stream",
     "text": [
      "C:\\Users\\user\\AppData\\Local\\Temp\\ipykernel_10548\\638961479.py:11: FutureWarning: \n",
      "\n",
      "Passing `palette` without assigning `hue` is deprecated and will be removed in v0.14.0. Assign the `x` variable to `hue` and set `legend=False` for the same effect.\n",
      "\n",
      "  sns.barplot(x=model_names, y=accuracies, palette=[\"#d80000\", \"#000000\", \"#888686\"])\n"
     ]
    },
    {
     "data": {
      "image/png": "[encoded data removed]",
      "text/plain": [
       "<Figure size 700x600 with 1 Axes>"
      ]
     },
     "metadata": {},
     "output_type": "display_data"
    }
   ],
   "source": [
    "import seaborn as sns\n",
    "import matplotlib.pyplot as plt\n",
    "\n",
    "\n",
    "plt.rcParams[\"font.family\"] = \"Impact\"\n",
    "\n",
    "model_names = list(resultados.keys())\n",
    "accuracies = [resultados[name]['Acurácia'] for name in model_names]\n",
    "\n",
    "plt.figure(figsize=(7,6))\n",
    "sns.barplot(x=model_names, y=accuracies, palette=[\"#d80000\", \"#000000\", \"#888686\"])\n",
    "\n",
    "plt.title('ACURÁCIA ENTRE MODELOS',\n",
    "          fontsize=20, fontweight='bold', color=\"#d80000\", pad=20)\n",
    "\n",
    "plt.xlabel('Modelos', fontsize=16, fontweight='bold', color=\"#000000\", labelpad=10)\n",
    "plt.ylabel('Acurácia', fontsize=16, fontweight='bold', color=\"#000000\", labelpad=40)\n",
    "\n",
    "plt.xticks(rotation=15, fontsize=14, fontweight='bold', color=\"#000000\")\n",
    "plt.yticks(fontsize=14, color=\"#000000\")\n",
    "\n",
    "plt.show()"
   ]
  }
 ],
 "metadata": {
  "kernelspec": {
   "display_name": ".venv",
   "language": "python",
   "name": "python3"
  },
  "language_info": {
   "codemirror_mode": {
    "name": "ipython",
    "version": 3
   },
   "file_extension": ".py",
   "mimetype": "text/x-python",
   "name": "python",
   "nbconvert_exporter": "python",
   "pygments_lexer": "ipython3",
   "version": "3.13.7"
  }
 },
 "nbformat": 4,
 "nbformat_minor": 5
}
